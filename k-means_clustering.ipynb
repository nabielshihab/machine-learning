{
 "cells": [
  {
   "cell_type": "markdown",
   "id": "5c0d62e8-4d89-4550-81c6-229fb73834f1",
   "metadata": {},
   "source": [
    "**AUTHOR:**  \n",
    "\n",
    "Nabiel Husein Shihab / nabielshihab@hotmail.com\n",
    "\n",
    "**NOTEBOOK DESCRIPTION**\n",
    "\n",
    "This notebook will tell us how K-means clustering, one of the unsupervised machine learning techniques, works and how we can use scikit-learn library to perform it."
   ]
  },
  {
   "cell_type": "markdown",
   "id": "4954d1d7-c57b-492d-a939-7df140a06836",
   "metadata": {},
   "source": [
    "# Brief Description About K-means Clustering"
   ]
  },
  {
   "cell_type": "markdown",
   "id": "e9b950b4-9d4e-4ae9-9599-cd7cc2a7d927",
   "metadata": {},
   "source": [
    "K-means clustering is a clustering algorithm that clusters data with similar features together with the help of Euclidean distance. \n",
    "\n",
    "<img src=\"figures/kmeans-clustering.gif\" width=\"720\" height=\"720\"/>\n",
    "\n",
    "As the above animation illustrates, the K-means clustering step-by-step is as follows:\n",
    "> 1. Choose number of clusters / centroids (k) \n",
    "> 2. Initialize centroids randomly to data points\n",
    "> 3. Map each data points to closest centroid\n",
    "> 4. Move centroids to the center \n",
    "> 5. Repeat steps 3 & 4 until centroids stop moving\n"
   ]
  },
  {
   "cell_type": "markdown",
   "id": "f304794a-5241-43a9-a5d8-fe7f46d54315",
   "metadata": {},
   "source": [
    "# Explanation about The Data"
   ]
  },
  {
   "cell_type": "markdown",
   "id": "b1b2e562-5d7b-4251-9374-b0950d796502",
   "metadata": {},
   "source": [
    "We will use Customers.csv file as our dataset. The dataset consists of 3 columns:\n",
    "> - CustomerID : id of each customer. We will not use this column when performing our clustering technique  \n",
    "> - Income : customer annual income in thousand USD   \n",
    "> - SpendingScore : customer spending score, ranges from 0-100 \n",
    "\n",
    "We are going to use the last two columns as our features to identify clusters in the dataset."
   ]
  },
  {
   "cell_type": "markdown",
   "id": "fea6c0e2-c65b-43ad-999f-de1d0f608400",
   "metadata": {},
   "source": [
    "# Let's Code"
   ]
  },
  {
   "cell_type": "markdown",
   "id": "5cc8a641-f273-4a6f-ab4b-96ceeeeeb332",
   "metadata": {},
   "source": [
    "## Import Packages/Libraries"
   ]
  },
  {
   "cell_type": "code",
   "execution_count": 1,
   "id": "4038cf80-8c75-489e-a2f4-e27babf52a00",
   "metadata": {},
   "outputs": [],
   "source": [
    "import pandas as pd\n",
    "import matplotlib.pyplot as plt\n",
    "import seaborn as sns\n",
    "from sklearn.cluster import KMeans"
   ]
  },
  {
   "cell_type": "markdown",
   "id": "2567540d-4234-4dff-880c-85c7bc1591a9",
   "metadata": {},
   "source": [
    "## Load/Generate Dataset"
   ]
  },
  {
   "cell_type": "code",
   "execution_count": 2,
   "id": "a7cbc0ee-31aa-43c9-b4c7-c20e14d11fca",
   "metadata": {},
   "outputs": [
    {
     "data": {
      "text/html": [
       "<div>\n",
       "<style scoped>\n",
       "    .dataframe tbody tr th:only-of-type {\n",
       "        vertical-align: middle;\n",
       "    }\n",
       "\n",
       "    .dataframe tbody tr th {\n",
       "        vertical-align: top;\n",
       "    }\n",
       "\n",
       "    .dataframe thead th {\n",
       "        text-align: right;\n",
       "    }\n",
       "</style>\n",
       "<table border=\"1\" class=\"dataframe\">\n",
       "  <thead>\n",
       "    <tr style=\"text-align: right;\">\n",
       "      <th></th>\n",
       "      <th>CustomerID</th>\n",
       "      <th>Income</th>\n",
       "      <th>SpendingScore</th>\n",
       "    </tr>\n",
       "  </thead>\n",
       "  <tbody>\n",
       "    <tr>\n",
       "      <th>0</th>\n",
       "      <td>1</td>\n",
       "      <td>15.0</td>\n",
       "      <td>39</td>\n",
       "    </tr>\n",
       "    <tr>\n",
       "      <th>1</th>\n",
       "      <td>2</td>\n",
       "      <td>15.0</td>\n",
       "      <td>81</td>\n",
       "    </tr>\n",
       "    <tr>\n",
       "      <th>2</th>\n",
       "      <td>3</td>\n",
       "      <td>16.0</td>\n",
       "      <td>6</td>\n",
       "    </tr>\n",
       "    <tr>\n",
       "      <th>3</th>\n",
       "      <td>4</td>\n",
       "      <td>16.0</td>\n",
       "      <td>77</td>\n",
       "    </tr>\n",
       "    <tr>\n",
       "      <th>4</th>\n",
       "      <td>5</td>\n",
       "      <td>17.0</td>\n",
       "      <td>40</td>\n",
       "    </tr>\n",
       "  </tbody>\n",
       "</table>\n",
       "</div>"
      ],
      "text/plain": [
       "   CustomerID  Income  SpendingScore\n",
       "0           1    15.0             39\n",
       "1           2    15.0             81\n",
       "2           3    16.0              6\n",
       "3           4    16.0             77\n",
       "4           5    17.0             40"
      ]
     },
     "execution_count": 2,
     "metadata": {},
     "output_type": "execute_result"
    }
   ],
   "source": [
    "df = pd.read_csv('dataset/Customers.csv')\n",
    "df.head()"
   ]
  },
  {
   "cell_type": "markdown",
   "id": "20880dee-1040-468d-afb2-6d29b2170b24",
   "metadata": {},
   "source": [
    "## Quick Look of the Dataset"
   ]
  },
  {
   "cell_type": "code",
   "execution_count": 3,
   "id": "90d131b8-5cd4-491c-aeac-47dda3e0ad68",
   "metadata": {},
   "outputs": [
    {
     "data": {
      "image/png": "[encoded data removed]",
      "text/plain": [
       "<Figure size 432x288 with 1 Axes>"
      ]
     },
     "metadata": {
      "needs_background": "light"
     },
     "output_type": "display_data"
    }
   ],
   "source": [
    "ax = sns.scatterplot(data=df, x='Income', y='SpendingScore')"
   ]
  },
  {
   "cell_type": "markdown",
   "id": "98bae877-fabf-4493-8362-426fd05bc055",
   "metadata": {},
   "source": [
    "From the scatter plot above, we can see that there are about 5 clusters in our dataset. One is in the middle and the other are on the each edge of the plot."
   ]
  },
  {
   "cell_type": "markdown",
   "id": "c1ea736a-8beb-4eed-9631-d320a7614d5f",
   "metadata": {},
   "source": [
    "## Get Features"
   ]
  },
  {
   "cell_type": "code",
   "execution_count": 4,
   "id": "9ccc6265-4165-41e6-af72-cbfe72a09db6",
   "metadata": {},
   "outputs": [
    {
     "data": {
      "text/plain": [
       "array([[15., 39.],\n",
       "       [15., 81.],\n",
       "       [16.,  6.],\n",
       "       [16., 77.],\n",
       "       [17., 40.]])"
      ]
     },
     "execution_count": 4,
     "metadata": {},
     "output_type": "execute_result"
    }
   ],
   "source": [
    "X = df.iloc[:, [1, 2]].values\n",
    "X[:5]"
   ]
  },
  {
   "cell_type": "markdown",
   "id": "5c8a6071-7590-4f85-b075-2dca9e684695",
   "metadata": {},
   "source": [
    "## Perform Elbow Method"
   ]
  },
  {
   "cell_type": "markdown",
   "id": "dc4f90c9-1eb5-438d-bcc4-d23af88a7a23",
   "metadata": {},
   "source": [
    "we can use Elbow method to determine the optimal value of K (number of clusters). Here we will compute the within cluster sum of square (WCSS) for each number of cluster and we will plot it. "
   ]
  },
  {
   "cell_type": "code",
   "execution_count": 5,
   "id": "fd39bc65-bbb9-449f-b2de-4ae29f002865",
   "metadata": {},
   "outputs": [
    {
     "data": {
      "image/png": "[encoded data removed]",
      "text/plain": [
       "<Figure size 432x432 with 1 Axes>"
      ]
     },
     "metadata": {
      "needs_background": "light"
     },
     "output_type": "display_data"
    }
   ],
   "source": [
    "# max number of iteration is equal to sample size\n",
    "# if we can think the optimal value of K beforehand, we can choose number of iterations to about the value of K\n",
    "# here we have seen that our dataset apparently formed 5 clusters, so we can choose 10 as our num of iterations\n",
    "n_iter = 10\n",
    "wcss = []\n",
    "for i in range(1, n_iter+1):\n",
    "    kmeans = KMeans(n_clusters = i, init = 'k-means++', random_state = 1)\n",
    "    kmeans.fit(X)\n",
    "    wcss.append(kmeans.inertia_)\n",
    "\n",
    "plt.figure(figsize=(6,6))\n",
    "plt.plot(range(1, n_iter+1), wcss)\n",
    "plt.title('The Elbow Method')\n",
    "plt.xlabel('Number of clusters (K)')\n",
    "plt.ylabel('WCSS')\n",
    "plt.show()"
   ]
  },
  {
   "cell_type": "markdown",
   "id": "15a38126-2781-45a8-bca1-0d9f5d1582d7",
   "metadata": {},
   "source": [
    "The elbow method plot above tells us that before K=5, WCSS decrease significantly. However after K=5, WCSS does not decrease significantly. Here we can choose 5 as our value of K."
   ]
  },
  {
   "cell_type": "markdown",
   "id": "68e39495-4fe6-4842-8118-85445a675342",
   "metadata": {},
   "source": [
    "## Train Model & Predict Clusters"
   ]
  },
  {
   "cell_type": "code",
   "execution_count": 6,
   "id": "e3f9149b-df34-4229-a0b5-778e87fa75f3",
   "metadata": {},
   "outputs": [],
   "source": [
    "# Training the K-Means model on the dataset\n",
    "n_clusters = 5\n",
    "kmeans = KMeans(n_clusters = n_clusters, init = 'k-means++', random_state = 42)\n",
    "\n",
    "# predict / define clusters\n",
    "clusters = kmeans.fit_predict(X) + 1"
   ]
  },
  {
   "cell_type": "markdown",
   "id": "17a63464-9744-4382-9f91-385aa16ba55d",
   "metadata": {},
   "source": [
    "## Merge Clusters to Our DataFrame"
   ]
  },
  {
   "cell_type": "code",
   "execution_count": 7,
   "id": "f4d11d2e-49f0-43de-b13f-e45b3df2b847",
   "metadata": {},
   "outputs": [
    {
     "data": {
      "text/html": [
       "<div>\n",
       "<style scoped>\n",
       "    .dataframe tbody tr th:only-of-type {\n",
       "        vertical-align: middle;\n",
       "    }\n",
       "\n",
       "    .dataframe tbody tr th {\n",
       "        vertical-align: top;\n",
       "    }\n",
       "\n",
       "    .dataframe thead th {\n",
       "        text-align: right;\n",
       "    }\n",
       "</style>\n",
       "<table border=\"1\" class=\"dataframe\">\n",
       "  <thead>\n",
       "    <tr style=\"text-align: right;\">\n",
       "      <th></th>\n",
       "      <th>CustomerID</th>\n",
       "      <th>Income</th>\n",
       "      <th>SpendingScore</th>\n",
       "      <th>Cluster</th>\n",
       "    </tr>\n",
       "  </thead>\n",
       "  <tbody>\n",
       "    <tr>\n",
       "      <th>0</th>\n",
       "      <td>1</td>\n",
       "      <td>15.0</td>\n",
       "      <td>39</td>\n",
       "      <td>3</td>\n",
       "    </tr>\n",
       "    <tr>\n",
       "      <th>1</th>\n",
       "      <td>2</td>\n",
       "      <td>15.0</td>\n",
       "      <td>81</td>\n",
       "      <td>4</td>\n",
       "    </tr>\n",
       "    <tr>\n",
       "      <th>2</th>\n",
       "      <td>3</td>\n",
       "      <td>16.0</td>\n",
       "      <td>6</td>\n",
       "      <td>3</td>\n",
       "    </tr>\n",
       "    <tr>\n",
       "      <th>3</th>\n",
       "      <td>4</td>\n",
       "      <td>16.0</td>\n",
       "      <td>77</td>\n",
       "      <td>4</td>\n",
       "    </tr>\n",
       "    <tr>\n",
       "      <th>4</th>\n",
       "      <td>5</td>\n",
       "      <td>17.0</td>\n",
       "      <td>40</td>\n",
       "      <td>3</td>\n",
       "    </tr>\n",
       "  </tbody>\n",
       "</table>\n",
       "</div>"
      ],
      "text/plain": [
       "   CustomerID  Income  SpendingScore  Cluster\n",
       "0           1    15.0             39        3\n",
       "1           2    15.0             81        4\n",
       "2           3    16.0              6        3\n",
       "3           4    16.0             77        4\n",
       "4           5    17.0             40        3"
      ]
     },
     "execution_count": 7,
     "metadata": {},
     "output_type": "execute_result"
    }
   ],
   "source": [
    "df['Cluster'] = clusters\n",
    "df.head()"
   ]
  },
  {
   "cell_type": "markdown",
   "id": "b2f56645-a13d-4357-8fbf-6765eed3dfca",
   "metadata": {},
   "source": [
    "## Visualize Clusters"
   ]
  },
  {
   "cell_type": "code",
   "execution_count": 8,
   "id": "d254c1cc-597f-429e-b320-57a992463137",
   "metadata": {},
   "outputs": [
    {
     "data": {
      "text/plain": [
       "<matplotlib.legend.Legend at 0x22ea39334c8>"
      ]
     },
     "execution_count": 8,
     "metadata": {},
     "output_type": "execute_result"
    },
    {
     "data": {
      "image/png": "[encoded data removed]",
      "text/plain": [
       "<Figure size 432x288 with 1 Axes>"
      ]
     },
     "metadata": {
      "needs_background": "light"
     },
     "output_type": "display_data"
    }
   ],
   "source": [
    "ax = sns.scatterplot(data=df, x='Income', y='SpendingScore', hue='Cluster')\n",
    "ax.scatter(kmeans.cluster_centers_[:, 0], kmeans.cluster_centers_[:, 1], s=100, c='k', marker='x', label='Centroids')\n",
    "ax.legend(bbox_to_anchor=(1,1), loc=\"upper left\", title='Cluster')"
   ]
  },
  {
   "cell_type": "markdown",
   "id": "850e5af9-f8ed-46f9-8d77-1176bd60366a",
   "metadata": {},
   "source": [
    "As we can see, K-means clustering did a good job to cluster our dataset."
   ]
  },
  {
   "cell_type": "code",
   "execution_count": null,
   "id": "0a233fba-ce3f-48fb-983a-6cd985753751",
   "metadata": {},
   "outputs": [],
   "source": []
  }
 ],
 "metadata": {
  "kernelspec": {
   "display_name": "github",
   "language": "python",
   "name": "github"
  },
  "language_info": {
   "codemirror_mode": {
    "name": "ipython",
    "version": 3
   },
   "file_extension": ".py",
   "mimetype": "text/x-python",
   "name": "python",
   "nbconvert_exporter": "python",
   "pygments_lexer": "ipython3",
   "version": "3.7.4"
  },
  "toc-autonumbering": false
 },
 "nbformat": 4,
 "nbformat_minor": 5
}
